{
 "cells": [
  {
   "cell_type": "code",
   "execution_count": 1,
   "metadata": {},
   "outputs": [],
   "source": [
    "from bs4 import BeautifulSoup\n",
    "import requests\n",
    "\n"
   ]
  },
  {
   "cell_type": "code",
   "execution_count": 47,
   "metadata": {},
   "outputs": [
    {
     "name": "stdout",
     "output_type": "stream",
     "text": [
      "[{'title': \"The brutal impact of war on Gaza's children\", 'url': 'bbc.com/news/world-middle-east-67211248'}, {'title': 'Mike Johnson in his own words', 'url': 'bbc.com/news/world-us-canada-67221442'}, {'title': 'At the scene of deadly US 158-car pile-up', 'url': 'bbc.com/news/world-us-canada-67206829'}, {'title': 'BBC World Service', 'url': 'bbc.com/news/world-65432059'}, {'title': \"Released Israeli hostage shakes her captor's hand\", 'url': 'bbc.com/news/world-middle-east-67204629'}]\n"
     ]
    }
   ],
   "source": [
    "url =\"https://www.bbc.com/news\"\n",
    "\n",
    "news=[]\n",
    "\n",
    "result = requests.get(url).text\n",
    "soup = BeautifulSoup(result, \"html.parser\")\n",
    "elements_with_data_entityid = soup.find_all(attrs={\"data-entityid\": True})\n",
    "articles = [element for element in elements_with_data_entityid if \"most-popular-watched\" in element[\"data-entityid\"]]\n",
    "\n",
    "for article in articles:\n",
    "    title = article.find(\"span\", class_=\"gs-c-promo-heading__title gel-pica-bold\").text\n",
    "    url = article.find(\"a\")['href']\n",
    "    url = \"bbc.com\" + url\n",
    "    article_dict = {\"title\": title,  \"url\": url}\n",
    "    news.append(article_dict)\n",
    "    \n",
    "\n",
    "print(news)\n",
    "    "
   ]
  }
 ],
 "metadata": {
  "kernelspec": {
   "display_name": "Python 3",
   "language": "python",
   "name": "python3"
  },
  "language_info": {
   "codemirror_mode": {
    "name": "ipython",
    "version": 3
   },
   "file_extension": ".py",
   "mimetype": "text/x-python",
   "name": "python",
   "nbconvert_exporter": "python",
   "pygments_lexer": "ipython3",
   "version": "3.11.4"
  }
 },
 "nbformat": 4,
 "nbformat_minor": 2
}
