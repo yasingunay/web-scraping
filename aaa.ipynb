{
 "cells": [
  {
   "cell_type": "code",
   "execution_count": 77,
   "metadata": {},
   "outputs": [],
   "source": [
    "from selenium import webdriver\n",
    "from selenium.webdriver.common.by import By\n",
    "from selenium.webdriver.support.ui import WebDriverWait\n",
    "from selenium.webdriver.support import expected_conditions as EC\n",
    "from bs4 import BeautifulSoup\n",
    "import re\n",
    "import pandas as pd \n",
    "\n",
    "\n",
    "page_number = 0\n",
    "max_pages = 1\n",
    "all = []  \n",
    "codes = []\n",
    "\n",
    "\n",
    "\n",
    "\n",
    "driver = webdriver.Chrome()\n",
    "\n",
    "\n",
    "url_template = \"https://www.desocialekaart.be/zoeken?pagina={}&paginaGrootte=25&rubriek=06.%20OPLEIDING,%20WERKLOOSHEID%20EN%20TEWERKSTELLING&sort=relevantie\"\n",
    "\n",
    "\n",
    "max_pages = 60\n",
    "\n",
    "while page_number <= max_pages:\n",
    "\n",
    "    url = url_template.format(page_number)\n",
    "    \n",
    "\n",
    "    driver.get(url)\n",
    "\n",
    "  \n",
    "    element = WebDriverWait(driver, 10).until(\n",
    "        EC.presence_of_element_located((By.CLASS_NAME, \"soka-result__title\"))\n",
    "    )\n",
    "    \n",
    "\n",
    "    page_source = driver.page_source\n",
    "\n",
    "\n",
    "    soup = BeautifulSoup(page_source, 'html.parser')\n",
    "\n",
    "  \n",
    "    organizations = soup.find_all(\"h3\", class_=\"soka-result__title\")\n",
    "    for org in organizations:\n",
    "        org_name = org.text\n",
    "        cleaned_name = org_name.replace(\"businessverified\", \"\").replace(\"business\", \"\").strip()\n",
    "\n",
    "        all.append(cleaned_name)  \n",
    "    all\n",
    "\n",
    "    postal_code_pattern = r'\\b\\d{4}\\b'\n",
    "    postal_codes = soup.find_all(\"p\", class_=\"ng-star-inserted\")\n",
    "    for postal_code in postal_codes:\n",
    "        matches = re.findall(postal_code_pattern, postal_code.text)\n",
    "        if matches:\n",
    "            codes.append(matches[0])\n",
    "\n",
    "\n",
    "    page_number += 1 \n",
    "\n",
    "\n",
    "driver.quit()\n",
    "\n",
    "\n"
   ]
  },
  {
   "cell_type": "code",
   "execution_count": 75,
   "metadata": {},
   "outputs": [],
   "source": [
    "df = pd.DataFrame({'Name': all})\n",
    "df.to_excel(\"result.xlsx\", index=False)\n"
   ]
  }
 ],
 "metadata": {
  "kernelspec": {
   "display_name": "Python 3",
   "language": "python",
   "name": "python3"
  },
  "language_info": {
   "codemirror_mode": {
    "name": "ipython",
    "version": 3
   },
   "file_extension": ".py",
   "mimetype": "text/x-python",
   "name": "python",
   "nbconvert_exporter": "python",
   "pygments_lexer": "ipython3",
   "version": "3.11.4"
  }
 },
 "nbformat": 4,
 "nbformat_minor": 2
}
