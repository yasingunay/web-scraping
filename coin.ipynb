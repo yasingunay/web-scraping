{
 "cells": [
  {
   "cell_type": "code",
   "execution_count": null,
   "metadata": {},
   "outputs": [],
   "source": [
    "from bs4 import BeautifulSoup\n",
    "import requests"
   ]
  },
  {
   "cell_type": "code",
   "execution_count": 31,
   "metadata": {},
   "outputs": [
    {
     "data": {
      "text/plain": [
       "{'Bitcoin': '$34,842.14',\n",
       " 'Ethereum': '$1,807.57',\n",
       " 'Tether USDt': '$1.00',\n",
       " 'BNB': '$226.82',\n",
       " 'XRP': '$0.5587',\n",
       " 'USDC': '$1.00',\n",
       " 'Solana': '$33.10',\n",
       " 'Cardano': '$0.2868',\n",
       " 'Dogecoin': '$0.06758',\n",
       " 'TRON': '$0.09382'}"
      ]
     },
     "execution_count": 31,
     "metadata": {},
     "output_type": "execute_result"
    }
   ],
   "source": [
    "url = \"https://coinmarketcap.com/\"\n",
    "\n",
    "result = requests.get(url).text\n",
    "doc = BeautifulSoup(result, \"html.parser\")\n",
    "tbody = doc.tbody\n",
    "trs = tbody.contents\n",
    "\n",
    "prices ={}\n",
    "\n",
    "for tr in trs[:10]:\n",
    "    name, price =  tr.contents[2:4]\n",
    "    fixed_name = name.p.string\n",
    "    fixed_price = price.a.string\n",
    "\n",
    "    prices[fixed_name] = fixed_price\n",
    "\n",
    "prices\n"
   ]
  }
 ],
 "metadata": {
  "kernelspec": {
   "display_name": "Python 3",
   "language": "python",
   "name": "python3"
  },
  "language_info": {
   "codemirror_mode": {
    "name": "ipython",
    "version": 3
   },
   "file_extension": ".py",
   "mimetype": "text/x-python",
   "name": "python",
   "nbconvert_exporter": "python",
   "pygments_lexer": "ipython3",
   "version": "3.11.4"
  }
 },
 "nbformat": 4,
 "nbformat_minor": 2
}
