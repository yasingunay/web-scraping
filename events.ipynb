{
 "cells": [
  {
   "cell_type": "code",
   "execution_count": 35,
   "metadata": {},
   "outputs": [],
   "source": [
    "from bs4 import BeautifulSoup\n",
    "import requests\n",
    "import csv \n",
    "\n"
   ]
  },
  {
   "cell_type": "code",
   "execution_count": 36,
   "metadata": {},
   "outputs": [],
   "source": [
    "url = \"https://www.python.org/events/python-events/\"\n",
    "\n",
    "p_events = []\n",
    "\n",
    "result = requests.get(url).text\n",
    "\n",
    "soup = BeautifulSoup(result, \"html.parser\")\n",
    "\n",
    "events = soup.find(\"ul\", class_=\"list-recent-events menu\").find_all(\"li\")\n",
    "\n",
    "for event in events:\n",
    "    title = event.find(\"h3\").a.text\n",
    "    time = event.find(\"time\").text.strip().replace(\" 2023\", \"\")\n",
    "    event_data = {'name': title, 'date': time}\n",
    "    p_events.append(event_data)\n",
    "    \n",
    "\n",
    "\n",
    "# Open a CSV file for writing\n",
    "with open('event_data.csv', mode='w') as csv_file:\n",
    "    fieldnames = ['name', 'date']\n",
    "    writer = csv.DictWriter(csv_file, fieldnames=fieldnames)\n",
    "    \n",
    "    # Write the header row\n",
    "    writer.writeheader()\n",
    "    \n",
    "    # Write each dictionary as a row in the CSV file\n",
    "    for event in p_events:\n",
    "        writer.writerow(event)\n"
   ]
  }
 ],
 "metadata": {
  "kernelspec": {
   "display_name": "Python 3",
   "language": "python",
   "name": "python3"
  },
  "language_info": {
   "codemirror_mode": {
    "name": "ipython",
    "version": 3
   },
   "file_extension": ".py",
   "mimetype": "text/x-python",
   "name": "python",
   "nbconvert_exporter": "python",
   "pygments_lexer": "ipython3",
   "version": "3.11.4"
  }
 },
 "nbformat": 4,
 "nbformat_minor": 2
}
