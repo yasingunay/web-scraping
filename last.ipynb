{
 "cells": [
  {
   "cell_type": "code",
   "execution_count": null,
   "metadata": {},
   "outputs": [],
   "source": [
    "from bs4 import BeautifulSoup\n",
    "\n",
    "import requests"
   ]
  },
  {
   "cell_type": "code",
   "execution_count": 12,
   "metadata": {},
   "outputs": [
    {
     "name": "stdout",
     "output_type": "stream",
     "text": [
      "6\n"
     ]
    }
   ],
   "source": [
    "url = \"https://www.newegg.ca/p/pl?d=imac+2017&page={page}\"\n",
    "\n",
    "result = requests.get(url).text\n",
    "doc = BeautifulSoup(result, \"html.parser\")\n",
    "\n",
    "page_text = doc.find(class_=\"list-tool-pagination-text\").strong\n",
    "pages = int(str(page_text).split(\"/\")[-2].split(\">\")[-1][:-1])\n",
    "print(pages)"
   ]
  }
 ],
 "metadata": {
  "kernelspec": {
   "display_name": "Python 3",
   "language": "python",
   "name": "python3"
  },
  "language_info": {
   "codemirror_mode": {
    "name": "ipython",
    "version": 3
   },
   "file_extension": ".py",
   "mimetype": "text/x-python",
   "name": "python",
   "nbconvert_exporter": "python",
   "pygments_lexer": "ipython3",
   "version": "3.11.4"
  }
 },
 "nbformat": 4,
 "nbformat_minor": 2
}
