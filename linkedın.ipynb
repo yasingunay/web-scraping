{
 "cells": [
  {
   "cell_type": "code",
   "execution_count": 18,
   "metadata": {},
   "outputs": [],
   "source": [
    "import pandas as pd \n",
    "import requests\n",
    "from bs4 import BeautifulSoup"
   ]
  },
  {
   "cell_type": "code",
   "execution_count": 36,
   "metadata": {},
   "outputs": [
    {
     "name": "stdout",
     "output_type": "stream",
     "text": [
      "[<title>Sign Up | LinkedIn</title>]\n"
     ]
    }
   ],
   "source": [
    "data = pd.read_csv(\"emp.csv\")\n",
    "\n",
    "\n",
    "linkedin_urls=[]\n",
    "\n",
    "\n",
    "search_url = \"https://www.linkedin.com/search/results/people/?keywords=Yasin%20G%C3%BCnay&sid=4MH\"\n",
    "response = requests.get(search_url)\n",
    "\n",
    "soup = BeautifulSoup(response.text, \"html.parser\")\n",
    "\n",
    "    \n",
    "search_results = soup.find_all(\"title\")\n",
    "\n",
    "print(search_results)\n",
    "        \n"
   ]
  }
 ],
 "metadata": {
  "kernelspec": {
   "display_name": "Python 3",
   "language": "python",
   "name": "python3"
  },
  "language_info": {
   "codemirror_mode": {
    "name": "ipython",
    "version": 3
   },
   "file_extension": ".py",
   "mimetype": "text/x-python",
   "name": "python",
   "nbconvert_exporter": "python",
   "pygments_lexer": "ipython3",
   "version": "3.11.4"
  }
 },
 "nbformat": 4,
 "nbformat_minor": 2
}
