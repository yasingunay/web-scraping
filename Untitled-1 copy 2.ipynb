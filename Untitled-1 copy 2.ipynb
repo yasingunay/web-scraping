{
 "cells": [
  {
   "cell_type": "code",
   "execution_count": 51,
   "metadata": {},
   "outputs": [],
   "source": [
    "from bs4 import BeautifulSoup\n",
    "import requests\n",
    "import re"
   ]
  },
  {
   "cell_type": "code",
   "execution_count": 53,
   "metadata": {},
   "outputs": [],
   "source": [
    "with open(\"index2.html\", \"r\") as f:\n",
    "    doc = BeautifulSoup(f, \"html.parser\")\n",
    "\n",
    "tags = doc.find_all(\"input\", type=\"text\")\n",
    "\n",
    "for tag in tags:\n",
    "    tag['placeholder'] = \"I changed you!\"\n",
    "\n",
    "\n",
    "with open(\"changed.html\", \"w\") as file:\n",
    "    file.write(str(doc))\n",
    "\n"
   ]
  }
 ],
 "metadata": {
  "kernelspec": {
   "display_name": "Python 3",
   "language": "python",
   "name": "python3"
  },
  "language_info": {
   "codemirror_mode": {
    "name": "ipython",
    "version": 3
   },
   "file_extension": ".py",
   "mimetype": "text/x-python",
   "name": "python",
   "nbconvert_exporter": "python",
   "pygments_lexer": "ipython3",
   "version": "3.11.4"
  }
 },
 "nbformat": 4,
 "nbformat_minor": 2
}
