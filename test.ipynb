{
 "cells": [
  {
   "cell_type": "code",
   "execution_count": 28,
   "metadata": {},
   "outputs": [],
   "source": [
    "from selenium import webdriver\n",
    "from bs4 import BeautifulSoup\n",
    "import pandas as pd\n",
    "\n",
    "# Initialize the WebDriver (specify the path to your webdriver executable)\n",
    "# Download the appropriate webdriver for your browser: https://selenium.dev/documentation/webdriver/\n",
    "driver = webdriver.Chrome()\n",
    "\n",
    "# Initialize lists to store data\n",
    "names = []\n",
    "postal_codes = []\n",
    "categories = set()\n",
    "\n",
    "# Loop through pages\n",
    "for page in range(61):  # You mentioned pages from 0 to 60\n",
    "    url = f'https://www.desocialekaart.be/zoeken?pagina={page}&paginaGrootte=25&rubriek=06.%20OPLEIDING,%20WERKLOOSHEID%20EN%20TEWERKSTELLING&sort=relevantie'\n",
    "    driver.get(url)\n",
    "\n",
    "    # Give the page some time to load (you might need to adjust the wait time)\n",
    "    driver.implicitly_wait(5)  # Adjust the wait time as needed\n",
    "\n",
    "    # Get the page source after it has loaded\n",
    "    page_source = driver.page_source\n",
    "\n",
    "    soup = BeautifulSoup(page_source, 'html.parser')\n",
    "    organization_entries = soup.find_all('div', class_='row search-result')\n",
    "\n",
    "    for entry in organization_entries:\n",
    "        name = entry.find('h3').text.strip()\n",
    "        postal_code = entry.find('div', class_='address').text.strip().split()[-1]\n",
    "        category = entry.find('div', class_='taxonomies').text.strip()\n",
    "\n",
    "        names.append(name)\n",
    "        postal_codes.append(postal_code)\n",
    "        categories.add(category)\n",
    "\n",
    "# Close the WebDriver\n",
    "driver.quit()\n",
    "\n",
    "# Create a DataFrame\n",
    "data = {\n",
    "    'Name': names,\n",
    "    'Postal Code': postal_codes\n",
    "}\n",
    "for category in categories:\n",
    "    data[category] = [1 if category in entry else 0 for entry in categories]\n",
    "\n",
    "df = pd.DataFrame(data)\n",
    "\n",
    "# Save the data to an Excel file\n",
    "df.to_excel('organizations_data.xlsx', index=False)\n"
   ]
  }
 ],
 "metadata": {
  "kernelspec": {
   "display_name": "Python 3",
   "language": "python",
   "name": "python3"
  },
  "language_info": {
   "codemirror_mode": {
    "name": "ipython",
    "version": 3
   },
   "file_extension": ".py",
   "mimetype": "text/x-python",
   "name": "python",
   "nbconvert_exporter": "python",
   "pygments_lexer": "ipython3",
   "version": "3.11.4"
  }
 },
 "nbformat": 4,
 "nbformat_minor": 2
}
